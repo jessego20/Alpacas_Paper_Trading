{
 "cells": [
  {
   "cell_type": "code",
   "execution_count": 35,
   "metadata": {},
   "outputs": [],
   "source": [
    "import pandas as pd\n",
    "import numpy as np\n",
    "import seaborn as sns\n",
    "\n",
    "from alpaca.data.historical import StockHistoricalDataClient\n",
    "from alpaca.data.requests import StockBarsRequest\n",
    "from alpaca.data.timeframe import TimeFrame\n",
    "from datetime import datetime, timedelta\n",
    "\n",
    "import config"
   ]
  },
  {
   "cell_type": "code",
   "execution_count": 22,
   "metadata": {},
   "outputs": [],
   "source": [
    "client = StockHistoricalDataClient(config.API_KEY, config.SECRET_KEY)"
   ]
  },
  {
   "cell_type": "code",
   "execution_count": 29,
   "metadata": {},
   "outputs": [],
   "source": [
    "symbol = 'SPY'\n",
    "\n",
    "end_date = datetime.now()\n",
    "start_date = end_date - timedelta(days=365*5)"
   ]
  },
  {
   "cell_type": "code",
   "execution_count": 30,
   "metadata": {},
   "outputs": [],
   "source": [
    "request_params = StockBarsRequest(\n",
    "    symbol_or_symbols=symbol,\n",
    "    timeframe=TimeFrame.Day,\n",
    "    start=start_date,\n",
    "    end=end_date\n",
    ")"
   ]
  },
  {
   "cell_type": "code",
   "execution_count": 31,
   "metadata": {},
   "outputs": [],
   "source": [
    "bars = client.get_stock_bars(request_params)"
   ]
  },
  {
   "cell_type": "code",
   "execution_count": 32,
   "metadata": {},
   "outputs": [],
   "source": [
    "df = pd.DataFrame([{\n",
    "    'Date': bar.timestamp,\n",
    "    'Open': bar.open,\n",
    "    'High': bar.high,\n",
    "    'Low': bar.low,\n",
    "    'Close': bar.close,\n",
    "    'Volume': bar.volume\n",
    "} for bar in bars[symbol]])\n",
    "\n",
    "df['Date'] = pd.to_datetime(df['Date'])\n",
    "df.set_index('Date', inplace=True)"
   ]
  },
  {
   "cell_type": "code",
   "execution_count": 33,
   "metadata": {},
   "outputs": [
    {
     "data": {
      "text/html": [
       "<div>\n",
       "<style scoped>\n",
       "    .dataframe tbody tr th:only-of-type {\n",
       "        vertical-align: middle;\n",
       "    }\n",
       "\n",
       "    .dataframe tbody tr th {\n",
       "        vertical-align: top;\n",
       "    }\n",
       "\n",
       "    .dataframe thead th {\n",
       "        text-align: right;\n",
       "    }\n",
       "</style>\n",
       "<table border=\"1\" class=\"dataframe\">\n",
       "  <thead>\n",
       "    <tr style=\"text-align: right;\">\n",
       "      <th></th>\n",
       "      <th>Open</th>\n",
       "      <th>High</th>\n",
       "      <th>Low</th>\n",
       "      <th>Close</th>\n",
       "      <th>Volume</th>\n",
       "    </tr>\n",
       "    <tr>\n",
       "      <th>Date</th>\n",
       "      <th></th>\n",
       "      <th></th>\n",
       "      <th></th>\n",
       "      <th></th>\n",
       "      <th></th>\n",
       "    </tr>\n",
       "  </thead>\n",
       "  <tbody>\n",
       "    <tr>\n",
       "      <th>2018-11-23 05:00:00+00:00</th>\n",
       "      <td>263.18</td>\n",
       "      <td>264.8234</td>\n",
       "      <td>263.0700</td>\n",
       "      <td>263.32</td>\n",
       "      <td>44012132.0</td>\n",
       "    </tr>\n",
       "    <tr>\n",
       "      <th>2018-11-26 05:00:00+00:00</th>\n",
       "      <td>265.78</td>\n",
       "      <td>267.7500</td>\n",
       "      <td>265.3400</td>\n",
       "      <td>267.43</td>\n",
       "      <td>81413911.0</td>\n",
       "    </tr>\n",
       "    <tr>\n",
       "      <th>2018-11-27 05:00:00+00:00</th>\n",
       "      <td>266.34</td>\n",
       "      <td>268.4000</td>\n",
       "      <td>265.6600</td>\n",
       "      <td>268.29</td>\n",
       "      <td>79161825.0</td>\n",
       "    </tr>\n",
       "    <tr>\n",
       "      <th>2018-11-28 05:00:00+00:00</th>\n",
       "      <td>269.60</td>\n",
       "      <td>274.5800</td>\n",
       "      <td>268.3272</td>\n",
       "      <td>274.36</td>\n",
       "      <td>129875459.0</td>\n",
       "    </tr>\n",
       "    <tr>\n",
       "      <th>2018-11-29 05:00:00+00:00</th>\n",
       "      <td>273.71</td>\n",
       "      <td>275.5500</td>\n",
       "      <td>272.4300</td>\n",
       "      <td>273.95</td>\n",
       "      <td>83664985.0</td>\n",
       "    </tr>\n",
       "    <tr>\n",
       "      <th>...</th>\n",
       "      <td>...</td>\n",
       "      <td>...</td>\n",
       "      <td>...</td>\n",
       "      <td>...</td>\n",
       "      <td>...</td>\n",
       "    </tr>\n",
       "    <tr>\n",
       "      <th>2023-11-14 05:00:00+00:00</th>\n",
       "      <td>446.32</td>\n",
       "      <td>450.0600</td>\n",
       "      <td>446.0900</td>\n",
       "      <td>448.73</td>\n",
       "      <td>97176937.0</td>\n",
       "    </tr>\n",
       "    <tr>\n",
       "      <th>2023-11-15 05:00:00+00:00</th>\n",
       "      <td>450.11</td>\n",
       "      <td>451.3800</td>\n",
       "      <td>448.8000</td>\n",
       "      <td>449.68</td>\n",
       "      <td>77327573.0</td>\n",
       "    </tr>\n",
       "    <tr>\n",
       "      <th>2023-11-16 05:00:00+00:00</th>\n",
       "      <td>449.22</td>\n",
       "      <td>450.5600</td>\n",
       "      <td>448.1200</td>\n",
       "      <td>450.23</td>\n",
       "      <td>66665799.0</td>\n",
       "    </tr>\n",
       "    <tr>\n",
       "      <th>2023-11-17 05:00:00+00:00</th>\n",
       "      <td>450.24</td>\n",
       "      <td>451.4200</td>\n",
       "      <td>449.2900</td>\n",
       "      <td>450.79</td>\n",
       "      <td>83183079.0</td>\n",
       "    </tr>\n",
       "    <tr>\n",
       "      <th>2023-11-20 05:00:00+00:00</th>\n",
       "      <td>450.53</td>\n",
       "      <td>455.1250</td>\n",
       "      <td>450.5200</td>\n",
       "      <td>454.26</td>\n",
       "      <td>69938741.0</td>\n",
       "    </tr>\n",
       "  </tbody>\n",
       "</table>\n",
       "<p>1256 rows × 5 columns</p>\n",
       "</div>"
      ],
      "text/plain": [
       "                             Open      High       Low   Close       Volume\n",
       "Date                                                                      \n",
       "2018-11-23 05:00:00+00:00  263.18  264.8234  263.0700  263.32   44012132.0\n",
       "2018-11-26 05:00:00+00:00  265.78  267.7500  265.3400  267.43   81413911.0\n",
       "2018-11-27 05:00:00+00:00  266.34  268.4000  265.6600  268.29   79161825.0\n",
       "2018-11-28 05:00:00+00:00  269.60  274.5800  268.3272  274.36  129875459.0\n",
       "2018-11-29 05:00:00+00:00  273.71  275.5500  272.4300  273.95   83664985.0\n",
       "...                           ...       ...       ...     ...          ...\n",
       "2023-11-14 05:00:00+00:00  446.32  450.0600  446.0900  448.73   97176937.0\n",
       "2023-11-15 05:00:00+00:00  450.11  451.3800  448.8000  449.68   77327573.0\n",
       "2023-11-16 05:00:00+00:00  449.22  450.5600  448.1200  450.23   66665799.0\n",
       "2023-11-17 05:00:00+00:00  450.24  451.4200  449.2900  450.79   83183079.0\n",
       "2023-11-20 05:00:00+00:00  450.53  455.1250  450.5200  454.26   69938741.0\n",
       "\n",
       "[1256 rows x 5 columns]"
      ]
     },
     "execution_count": 33,
     "metadata": {},
     "output_type": "execute_result"
    }
   ],
   "source": [
    "df"
   ]
  },
  {
   "cell_type": "code",
   "execution_count": 34,
   "metadata": {},
   "outputs": [
    {
     "data": {
      "text/plain": [
       "<Axes: xlabel='Date', ylabel='Open'>"
      ]
     },
     "execution_count": 34,
     "metadata": {},
     "output_type": "execute_result"
    },
    {
     "data": {
      "image/png": "[encoded data removed]",
      "text/plain": [
       "<Figure size 640x480 with 1 Axes>"
      ]
     },
     "metadata": {},
     "output_type": "display_data"
    }
   ],
   "source": [
    "sns.lineplot(df.Open)"
   ]
  },
  {
   "cell_type": "code",
   "execution_count": null,
   "metadata": {},
   "outputs": [],
   "source": []
  }
 ],
 "metadata": {
  "kernelspec": {
   "display_name": ".venv",
   "language": "python",
   "name": "python3"
  },
  "language_info": {
   "codemirror_mode": {
    "name": "ipython",
    "version": 3
   },
   "file_extension": ".py",
   "mimetype": "text/x-python",
   "name": "python",
   "nbconvert_exporter": "python",
   "pygments_lexer": "ipython3",
   "version": "3.11.5"
  }
 },
 "nbformat": 4,
 "nbformat_minor": 2
}
